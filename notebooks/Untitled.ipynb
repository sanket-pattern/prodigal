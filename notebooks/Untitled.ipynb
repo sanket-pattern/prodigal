{
 "cells": [
  {
   "cell_type": "markdown",
   "metadata": {},
   "source": [
    "## Use-Case Specific Feature Extraction on Cleaned Data"
   ]
  },
  {
   "cell_type": "markdown",
   "metadata": {},
   "source": [
    "We will be demonstrating out products capabilites and range using following use cases :\n"
   ]
  },
  {
   "cell_type": "markdown",
   "metadata": {},
   "source": [
    "a) Assessing Quality of Agent's Performance using Agent Score\n"
   ]
  },
  {
   "cell_type": "markdown",
   "metadata": {},
   "source": [
    "b) Gauging Borrower's Risk using Risk Score\n"
   ]
  },
  {
   "cell_type": "markdown",
   "metadata": {},
   "source": [
    "c) Discard calls that served no insightful purposes\n"
   ]
  },
  {
   "cell_type": "markdown",
   "metadata": {},
   "source": [
    "d) Highlight calls that contain signigicant inferences."
   ]
  },
  {
   "cell_type": "code",
   "execution_count": 4,
   "metadata": {
    "collapsed": true
   },
   "outputs": [],
   "source": [
    "import pandas as pd\n",
    "import numpy as np"
   ]
  },
  {
   "cell_type": "code",
   "execution_count": 10,
   "metadata": {
    "collapsed": false
   },
   "outputs": [],
   "source": [
    "data = pd.read_csv('../data/processed/clean_data.csv')\n",
    "data.set_index('call_id',inplace=True)\n",
    "data= (data - data.mean())/data.std()"
   ]
  },
  {
   "cell_type": "markdown",
   "metadata": {},
   "source": [
    "### Assessing Agent Performance using Agent Score\n",
    "Based on the features that contribute to suggest that the agent has performed well or poorly during a call, we assign an agent score in this module. It will allow our customers to assess their agents over time and reward the agents that perform well or give weak links of the poor performing agents."
   ]
  },
  {
   "cell_type": "code",
   "execution_count": 11,
   "metadata": {
    "collapsed": true
   },
   "outputs": [],
   "source": [
    "def agent_score(data):\n",
    "    '''\n",
    "    The following features are selected to gauge the agent performance as 'Agent Score' : \n",
    "        1. Negative features :\n",
    "            a. O-A-overtalk-incidents\n",
    "            b. O-A-overtalk-ratio\n",
    "            c. TTR-Silence-ratio\n",
    "            d. TTR-A-talk-rate (Bad if too fast or too slow)\n",
    "            e. \n",
    "        2. Positive features : \n",
    "            a. TTR-A-talk-ratio\n",
    "            b. \n",
    "        \n",
    "            \n",
    "    '''\n",
    "    pass"
   ]
  },
  {
   "cell_type": "code",
   "execution_count": 12,
   "metadata": {
    "collapsed": false
   },
   "outputs": [],
   "source": [
    "def linear_feature_quantile(data, feature):\n",
    "    '''\n",
    "    This function assigns a linear score to each call for the feature given in the parameter.\n",
    "    Linear indicates  more the value the higher the score. The following logic is used : \n",
    "        - 0 is assigned if the value of the standardized feature is less than 0.\n",
    "        - 1 is assigned if the value of the standardized feature is between 0 and 1.\n",
    "        - 2 is assigned if the value of the standardized feature is between 1 and 2. \n",
    "        - 3 is assigned if the value of the standardized feature is more than 2.\n",
    "    '''\n",
    "    data.ix[data[data[feature]<=0].index.values,feature]=0\n",
    "    data.ix[data[(data[feature]>0) & (data[feature]<=1)].index.values,feature]=1\n",
    "    data.ix[data[(data[feature]>1) & (data[feature]<=2)].index.values,feature]=2\n",
    "    data.ix[data[(data[feature]>2)].index.values,feature]=3\n",
    "    return data\n",
    "    \n",
    "    "
   ]
  },
  {
   "cell_type": "code",
   "execution_count": 13,
   "metadata": {
    "collapsed": false
   },
   "outputs": [],
   "source": [
    "def normal_feature_quantile(data, feature):\n",
    "    '''\n",
    "    This function assigns a linear score to each call for the feature given in the parameter.\n",
    "    Linear indicates  more the value the higher the score. The following logic is used : \n",
    "        - 0 is assigned if the value of the standardized feature is less than 0.\n",
    "        - 1 is assigned if the value of the standardized feature is between 0 and 1.\n",
    "        - 2 is assigned if the value of the standardized feature is between 1 and 2. \n",
    "        - 3 is assigned if the value of the standardized feature is more than 2.\n",
    "    '''\n",
    "    data.ix[data[(data[feature].abs()<1)].index.values,feature]=0\n",
    "    data.ix[data[(data[feature].abs()>1) & (data[feature].abs()<=2)].index.values,feature]=1\n",
    "    data.ix[data[(data[feature].abs()>2)].index.values,feature]=2\n",
    "    return data"
   ]
  },
  {
   "cell_type": "code",
   "execution_count": null,
   "metadata": {
    "collapsed": true
   },
   "outputs": [],
   "source": []
  }
 ],
 "metadata": {
  "kernelspec": {
   "display_name": "Python 3",
   "language": "python",
   "name": "python3"
  },
  "language_info": {
   "codemirror_mode": {
    "name": "ipython",
    "version": 3
   },
   "file_extension": ".py",
   "mimetype": "text/x-python",
   "name": "python",
   "nbconvert_exporter": "python",
   "pygments_lexer": "ipython3",
   "version": "3.5.1"
  }
 },
 "nbformat": 4,
 "nbformat_minor": 0
}
