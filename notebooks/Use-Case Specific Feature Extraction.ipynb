{
 "cells": [
  {
   "cell_type": "markdown",
   "metadata": {},
   "source": [
    "## Use-Case Specific Feature Extraction on Cleaned Data"
   ]
  },
  {
   "cell_type": "code",
   "execution_count": 38,
   "metadata": {
    "collapsed": true
   },
   "outputs": [],
   "source": [
    "import pandas as pd\n",
    "import numpy as np\n",
    "import warnings\n",
    "warnings.filterwarnings('ignore')"
   ]
  },
  {
   "cell_type": "code",
   "execution_count": 39,
   "metadata": {
    "collapsed": false
   },
   "outputs": [],
   "source": [
    "data = pd.read_csv('../data/processed/clean_data.csv')\n",
    "data.set_index('call_id',inplace=True)\n",
    "data= (data - data.mean())/data.std()"
   ]
  },
  {
   "cell_type": "markdown",
   "metadata": {},
   "source": [
    "### Linearly Feature Quantile \n",
    "The features which impact the agent's score linearly are constructed through this function 'linear_feature_quantile'. The more the agent's feature is positively deviant from the average behaviour, the more the score assigned. However if the value is lesser than mean, the value is 0. "
   ]
  },
  {
   "cell_type": "code",
   "execution_count": 40,
   "metadata": {
    "collapsed": false
   },
   "outputs": [],
   "source": [
    "def linear_feature_quantile(data, feature):\n",
    "    '''\n",
    "    This function assigns a linear score to each call for the feature given in the parameter.\n",
    "    Linear indicates  more the value the higher the score. The following logic is used : \n",
    "        - 0 is assigned if the value of the standardized feature is less than 0.\n",
    "        - 1 is assigned if the value of the standardized feature is between 0 and 1.\n",
    "        - 2 is assigned if the value of the standardized feature is between 1 and 2. \n",
    "        - 3 is assigned if the value of the standardized feature is more than 2.\n",
    "    '''\n",
    "    data.ix[data[data[feature]<=0].index.values,feature]=0\n",
    "    data.ix[data[(data[feature]>0) & (data[feature]<=1)].index.values,feature]=1\n",
    "    data.ix[data[(data[feature]>1) & (data[feature]<=2)].index.values,feature]=2\n",
    "    data.ix[data[(data[feature]>2)].index.values,feature]=3\n",
    "    return data\n",
    "    \n",
    "    "
   ]
  },
  {
   "cell_type": "markdown",
   "metadata": {},
   "source": [
    "### Abnormal Feature Quantile\n",
    "The features which do not impact the agent's score linearly, but are indicators of anomolous behaviour when their value is straying away from both sides of the mean, are constructed trough the following function called 'abnormal_feature_quantile'. \n",
    "When the value is abnormally deviant from the mean on positive or negative side , the abnormal feature value increases."
   ]
  },
  {
   "cell_type": "code",
   "execution_count": 41,
   "metadata": {
    "collapsed": false
   },
   "outputs": [],
   "source": [
    "def abnormal_feature_quantile(data, feature):\n",
    "    '''\n",
    "    This function assigns a linear score to each call for the feature given in the parameter.\n",
    "    Linear indicates  more the value the higher the score. The following logic is used : \n",
    "        - 0 is assigned if the value of the standardized feature is between -1 and 1.\n",
    "        - 1 is assigned if the absolute value of the standardized feature is between 1 and 2.\n",
    "        - 2 is assigned if the absolute value of the standardized feature is more than 2.\n",
    "    '''\n",
    "    data.ix[data[(data[feature].abs()<1)].index.values,feature]=0\n",
    "    data.ix[data[(data[feature].abs()>1) & (data[feature].abs()<=2)].index.values,feature]=1\n",
    "    data.ix[data[(data[feature].abs()>2)].index.values,feature]=2\n",
    "    return data"
   ]
  },
  {
   "cell_type": "markdown",
   "metadata": {},
   "source": [
    "We will be demonstrating out products capabilites and range using following use cases :\n"
   ]
  },
  {
   "cell_type": "markdown",
   "metadata": {},
   "source": [
    "1) Agent Score\n"
   ]
  },
  {
   "cell_type": "markdown",
   "metadata": {},
   "source": [
    "2) Borrower's Credit Risk Score\n"
   ]
  },
  {
   "cell_type": "markdown",
   "metadata": {},
   "source": [
    "3) Information Score\n"
   ]
  },
  {
   "cell_type": "markdown",
   "metadata": {},
   "source": [
    "### 1. Agent Score \n",
    "Based on the features that contribute to suggest that the agent has performed  poorly during a call, we assign an agent score in this module. It will allow our customers to assess their agents over time and allow the agents to improve on their weak links via the analytics provided by this score. The more the agent score, the more weaknesses the agent has shown during the call."
   ]
  },
  {
   "cell_type": "code",
   "execution_count": 45,
   "metadata": {
    "collapsed": false
   },
   "outputs": [],
   "source": [
    "def agent_score(data):\n",
    "    '''\n",
    "    The following features are selected to gauge the agent performance as 'Agent Score' : \n",
    "        1. Linear Quantile features : \n",
    "            a. O-A-overtalk-incidents (L)\n",
    "            b. O-A-overtalk-ratio (L)\n",
    "            c. TTR-silence-ratio (L)\n",
    "            e. TTR-silence-incidents (L)\n",
    "            f. TST-A-voice-dynamism-std-dev-score (L)\n",
    "        2. Anomoly Quantile features : \n",
    "            a. TTR-A-to-C-talk-rate-ratio (N)\n",
    "            b. TTR-A-median-streak (N) \n",
    "            c. TTR-A-talk-ratio (N)\n",
    "            d. TST-A-intra-call-change-in-pitch (N)\n",
    "            e. TST-A-intra-call-change-in-relative-voice-volume-energy (N)\n",
    "            f. TST-A-relative-voice-volume-energy (N)\n",
    "            g. S-A-sentiment (N)\n",
    "            h. TTR-A-talk-rate (Bad if too fast or too slow)  (N)\n",
    "\n",
    "    '''\n",
    "    linear_quantile_feature_list = ['O-A-overtalk-incidents','O-A-overtalk-ratio','TTR-silence-ratio',\n",
    "                                    'TTR-silence-incidents']\n",
    "    abnormal_quantile_feature_list = ['TTR-A-to-C-talk-rate-ratio','TTR-A-median-streak','TTR-A-talk-ratio',\n",
    "                                    'TST-A-intra-call-change-in-pitch','TST-A-intra-call-change-in-relative-voice-volume-energy',\n",
    "                                    'TST-A-relative-voice-volume-energy','S-A-sentiment','TTR-A-talk-rate']\n",
    "    total_agent_score_columns = linear_quantile_feature_list + abnormal_quantile_feature_list\n",
    "    data = data[total_agent_score_columns]\n",
    "    for linear_feature in linear_quantile_feature_list:\n",
    "        data = linear_feature_quantile(data, linear_feature)\n",
    "    for abnormal_feature in abnormal_quantile_feature_list:\n",
    "        data = abnormal_feature_quantile(data, abnormal_feature)\n",
    "    return data"
   ]
  },
  {
   "cell_type": "code",
   "execution_count": 46,
   "metadata": {
    "collapsed": false
   },
   "outputs": [],
   "source": [
    "data = agent_score(data)\n",
    "data['agent_score'] = data.sum(axis=1)\n",
    "bad_agents = data[data['agent_score']>=10]\n",
    "bad_agents.to_csv('../data/bad_agents.csv')"
   ]
  },
  {
   "cell_type": "code",
   "execution_count": 47,
   "metadata": {
    "collapsed": false
   },
   "outputs": [
    {
     "data": {
      "text/html": [
       "<div>\n",
       "<table border=\"1\" class=\"dataframe\">\n",
       "  <thead>\n",
       "    <tr style=\"text-align: right;\">\n",
       "      <th></th>\n",
       "      <th>O-A-overtalk-incidents</th>\n",
       "      <th>O-A-overtalk-ratio</th>\n",
       "      <th>TTR-silence-ratio</th>\n",
       "      <th>TTR-silence-incidents</th>\n",
       "      <th>TTR-A-to-C-talk-rate-ratio</th>\n",
       "      <th>TTR-A-median-streak</th>\n",
       "      <th>TTR-A-talk-ratio</th>\n",
       "      <th>TST-A-intra-call-change-in-pitch</th>\n",
       "      <th>TST-A-intra-call-change-in-relative-voice-volume-energy</th>\n",
       "      <th>TST-A-relative-voice-volume-energy</th>\n",
       "      <th>S-A-sentiment</th>\n",
       "      <th>TTR-A-talk-rate</th>\n",
       "      <th>agent_score</th>\n",
       "    </tr>\n",
       "    <tr>\n",
       "      <th>call_id</th>\n",
       "      <th></th>\n",
       "      <th></th>\n",
       "      <th></th>\n",
       "      <th></th>\n",
       "      <th></th>\n",
       "      <th></th>\n",
       "      <th></th>\n",
       "      <th></th>\n",
       "      <th></th>\n",
       "      <th></th>\n",
       "      <th></th>\n",
       "      <th></th>\n",
       "      <th></th>\n",
       "    </tr>\n",
       "  </thead>\n",
       "  <tbody>\n",
       "    <tr>\n",
       "      <th>2023</th>\n",
       "      <td>3.0</td>\n",
       "      <td>2.0</td>\n",
       "      <td>3.0</td>\n",
       "      <td>3.0</td>\n",
       "      <td>0.0</td>\n",
       "      <td>0.0</td>\n",
       "      <td>0.0</td>\n",
       "      <td>0.0</td>\n",
       "      <td>1.0</td>\n",
       "      <td>0.0</td>\n",
       "      <td>0.0</td>\n",
       "      <td>0.0</td>\n",
       "      <td>12.0</td>\n",
       "    </tr>\n",
       "    <tr>\n",
       "      <th>2600</th>\n",
       "      <td>3.0</td>\n",
       "      <td>2.0</td>\n",
       "      <td>1.0</td>\n",
       "      <td>0.0</td>\n",
       "      <td>1.0</td>\n",
       "      <td>0.0</td>\n",
       "      <td>1.0</td>\n",
       "      <td>1.0</td>\n",
       "      <td>0.0</td>\n",
       "      <td>1.0</td>\n",
       "      <td>0.0</td>\n",
       "      <td>1.0</td>\n",
       "      <td>11.0</td>\n",
       "    </tr>\n",
       "    <tr>\n",
       "      <th>2723</th>\n",
       "      <td>2.0</td>\n",
       "      <td>1.0</td>\n",
       "      <td>1.0</td>\n",
       "      <td>0.0</td>\n",
       "      <td>1.0</td>\n",
       "      <td>0.0</td>\n",
       "      <td>1.0</td>\n",
       "      <td>1.0</td>\n",
       "      <td>1.0</td>\n",
       "      <td>1.0</td>\n",
       "      <td>1.0</td>\n",
       "      <td>0.0</td>\n",
       "      <td>10.0</td>\n",
       "    </tr>\n",
       "    <tr>\n",
       "      <th>2987</th>\n",
       "      <td>3.0</td>\n",
       "      <td>0.0</td>\n",
       "      <td>2.0</td>\n",
       "      <td>2.0</td>\n",
       "      <td>1.0</td>\n",
       "      <td>0.0</td>\n",
       "      <td>1.0</td>\n",
       "      <td>0.0</td>\n",
       "      <td>1.0</td>\n",
       "      <td>0.0</td>\n",
       "      <td>1.0</td>\n",
       "      <td>1.0</td>\n",
       "      <td>12.0</td>\n",
       "    </tr>\n",
       "    <tr>\n",
       "      <th>3387</th>\n",
       "      <td>3.0</td>\n",
       "      <td>0.0</td>\n",
       "      <td>1.0</td>\n",
       "      <td>2.0</td>\n",
       "      <td>1.0</td>\n",
       "      <td>0.0</td>\n",
       "      <td>1.0</td>\n",
       "      <td>0.0</td>\n",
       "      <td>1.0</td>\n",
       "      <td>0.0</td>\n",
       "      <td>1.0</td>\n",
       "      <td>1.0</td>\n",
       "      <td>11.0</td>\n",
       "    </tr>\n",
       "    <tr>\n",
       "      <th>3417</th>\n",
       "      <td>3.0</td>\n",
       "      <td>1.0</td>\n",
       "      <td>3.0</td>\n",
       "      <td>2.0</td>\n",
       "      <td>0.0</td>\n",
       "      <td>0.0</td>\n",
       "      <td>0.0</td>\n",
       "      <td>0.0</td>\n",
       "      <td>1.0</td>\n",
       "      <td>0.0</td>\n",
       "      <td>1.0</td>\n",
       "      <td>0.0</td>\n",
       "      <td>11.0</td>\n",
       "    </tr>\n",
       "    <tr>\n",
       "      <th>3541</th>\n",
       "      <td>1.0</td>\n",
       "      <td>2.0</td>\n",
       "      <td>2.0</td>\n",
       "      <td>2.0</td>\n",
       "      <td>0.0</td>\n",
       "      <td>0.0</td>\n",
       "      <td>0.0</td>\n",
       "      <td>0.0</td>\n",
       "      <td>1.0</td>\n",
       "      <td>1.0</td>\n",
       "      <td>0.0</td>\n",
       "      <td>1.0</td>\n",
       "      <td>10.0</td>\n",
       "    </tr>\n",
       "    <tr>\n",
       "      <th>4519</th>\n",
       "      <td>1.0</td>\n",
       "      <td>2.0</td>\n",
       "      <td>2.0</td>\n",
       "      <td>3.0</td>\n",
       "      <td>0.0</td>\n",
       "      <td>0.0</td>\n",
       "      <td>0.0</td>\n",
       "      <td>0.0</td>\n",
       "      <td>1.0</td>\n",
       "      <td>1.0</td>\n",
       "      <td>0.0</td>\n",
       "      <td>0.0</td>\n",
       "      <td>10.0</td>\n",
       "    </tr>\n",
       "  </tbody>\n",
       "</table>\n",
       "</div>"
      ],
      "text/plain": [
       "         O-A-overtalk-incidents  O-A-overtalk-ratio  TTR-silence-ratio  \\\n",
       "call_id                                                                  \n",
       "2023                        3.0                 2.0                3.0   \n",
       "2600                        3.0                 2.0                1.0   \n",
       "2723                        2.0                 1.0                1.0   \n",
       "2987                        3.0                 0.0                2.0   \n",
       "3387                        3.0                 0.0                1.0   \n",
       "3417                        3.0                 1.0                3.0   \n",
       "3541                        1.0                 2.0                2.0   \n",
       "4519                        1.0                 2.0                2.0   \n",
       "\n",
       "         TTR-silence-incidents  TTR-A-to-C-talk-rate-ratio  \\\n",
       "call_id                                                      \n",
       "2023                       3.0                         0.0   \n",
       "2600                       0.0                         1.0   \n",
       "2723                       0.0                         1.0   \n",
       "2987                       2.0                         1.0   \n",
       "3387                       2.0                         1.0   \n",
       "3417                       2.0                         0.0   \n",
       "3541                       2.0                         0.0   \n",
       "4519                       3.0                         0.0   \n",
       "\n",
       "         TTR-A-median-streak  TTR-A-talk-ratio  \\\n",
       "call_id                                          \n",
       "2023                     0.0               0.0   \n",
       "2600                     0.0               1.0   \n",
       "2723                     0.0               1.0   \n",
       "2987                     0.0               1.0   \n",
       "3387                     0.0               1.0   \n",
       "3417                     0.0               0.0   \n",
       "3541                     0.0               0.0   \n",
       "4519                     0.0               0.0   \n",
       "\n",
       "         TST-A-intra-call-change-in-pitch  \\\n",
       "call_id                                     \n",
       "2023                                  0.0   \n",
       "2600                                  1.0   \n",
       "2723                                  1.0   \n",
       "2987                                  0.0   \n",
       "3387                                  0.0   \n",
       "3417                                  0.0   \n",
       "3541                                  0.0   \n",
       "4519                                  0.0   \n",
       "\n",
       "         TST-A-intra-call-change-in-relative-voice-volume-energy  \\\n",
       "call_id                                                            \n",
       "2023                                                   1.0         \n",
       "2600                                                   0.0         \n",
       "2723                                                   1.0         \n",
       "2987                                                   1.0         \n",
       "3387                                                   1.0         \n",
       "3417                                                   1.0         \n",
       "3541                                                   1.0         \n",
       "4519                                                   1.0         \n",
       "\n",
       "         TST-A-relative-voice-volume-energy  S-A-sentiment  TTR-A-talk-rate  \\\n",
       "call_id                                                                       \n",
       "2023                                    0.0            0.0              0.0   \n",
       "2600                                    1.0            0.0              1.0   \n",
       "2723                                    1.0            1.0              0.0   \n",
       "2987                                    0.0            1.0              1.0   \n",
       "3387                                    0.0            1.0              1.0   \n",
       "3417                                    0.0            1.0              0.0   \n",
       "3541                                    1.0            0.0              1.0   \n",
       "4519                                    1.0            0.0              0.0   \n",
       "\n",
       "         agent_score  \n",
       "call_id               \n",
       "2023            12.0  \n",
       "2600            11.0  \n",
       "2723            10.0  \n",
       "2987            12.0  \n",
       "3387            11.0  \n",
       "3417            11.0  \n",
       "3541            10.0  \n",
       "4519            10.0  "
      ]
     },
     "execution_count": 47,
     "metadata": {},
     "output_type": "execute_result"
    }
   ],
   "source": [
    "bad_agents"
   ]
  },
  {
   "cell_type": "markdown",
   "metadata": {},
   "source": [
    "### 2. Borrower's Credit Risk Score\n"
   ]
  },
  {
   "cell_type": "code",
   "execution_count": null,
   "metadata": {
    "collapsed": true
   },
   "outputs": [],
   "source": []
  }
 ],
 "metadata": {
  "kernelspec": {
   "display_name": "Python 3",
   "language": "python",
   "name": "python3"
  },
  "language_info": {
   "codemirror_mode": {
    "name": "ipython",
    "version": 3
   },
   "file_extension": ".py",
   "mimetype": "text/x-python",
   "name": "python",
   "nbconvert_exporter": "python",
   "pygments_lexer": "ipython3",
   "version": "3.5.1"
  }
 },
 "nbformat": 4,
 "nbformat_minor": 0
}
