{
 "cells": [
  {
   "cell_type": "code",
   "execution_count": 157,
   "metadata": {
    "collapsed": true
   },
   "outputs": [],
   "source": [
    "%matplotlib inline\n",
    "import numpy as np\n",
    "import pandas as pd"
   ]
  },
  {
   "cell_type": "code",
   "execution_count": 203,
   "metadata": {
    "collapsed": false
   },
   "outputs": [],
   "source": [
    "data = pd.read_csv('data/raw/takehome.csv')"
   ]
  },
  {
   "cell_type": "code",
   "execution_count": 204,
   "metadata": {
    "collapsed": false
   },
   "outputs": [],
   "source": [
    "data.set_index(['call_id'],inplace=True)"
   ]
  },
  {
   "cell_type": "code",
   "execution_count": 205,
   "metadata": {
    "collapsed": true
   },
   "outputs": [],
   "source": [
    "from sklearn.decomposition import PCA\n",
    "from sklearn.preprocessing import StandardScaler"
   ]
  },
  {
   "cell_type": "code",
   "execution_count": 206,
   "metadata": {
    "collapsed": false
   },
   "outputs": [
    {
     "name": "stdout",
     "output_type": "stream",
     "text": [
      "[[-0.05826916 -0.54557014 -0.20645714 ..., -0.50884833 -0.29815157\n",
      "   0.93071031]\n",
      " [-0.31116202  1.49503409 -0.28013292 ...,  0.1109248  -0.29815157\n",
      "  -0.92198062]\n",
      " [ 3.16611479  1.23422579  2.74057415 ...,  0.86039622  3.90735484\n",
      "   2.13174556]\n",
      " ..., \n",
      " [-0.2479388   0.47635749 -0.64851183 ..., -0.04732236 -0.29815157\n",
      "  -0.31468608]\n",
      " [-0.75372452 -0.42753272 -0.50116027 ..., -0.23894713 -0.29815157\n",
      "  -0.87378154]\n",
      " [-0.50083166 -0.94817948 -0.20645714 ..., -0.61575835 -0.29815157\n",
      "   0.82186476]]\n"
     ]
    }
   ],
   "source": [
    "X=data.values\n",
    "X = StandardScaler().fit_transform(X)\n",
    "print(X)"
   ]
  },
  {
   "cell_type": "code",
   "execution_count": 207,
   "metadata": {
    "collapsed": false
   },
   "outputs": [
    {
     "name": "stdout",
     "output_type": "stream",
     "text": [
      "[[  6.92841935e-01  -1.30160143e+00]\n",
      " [ -2.12682070e+00  -1.00513988e+00]\n",
      " [ -4.60582883e+00   2.52329320e+00]\n",
      " [ -1.05927552e+00  -2.22872393e+00]\n",
      " [ -7.28947152e+00   4.58740890e+00]\n",
      " [  1.26533595e+01   4.06752165e+00]\n",
      " [ -2.97247148e-01  -2.91448535e+00]\n",
      " [  1.26167082e+01   4.12243432e+00]\n",
      " [  1.13985996e+00  -2.11096555e+00]\n",
      " [  5.87210279e-01  -2.13957442e+00]\n",
      " [ -7.25335128e-01  -9.92360869e-01]\n",
      " [ -4.26181026e+00   5.22482383e+00]\n",
      " [  1.26548266e+01   4.06503056e+00]\n",
      " [  7.18666099e-01  -1.39949252e+00]\n",
      " [  5.94181793e-01  -4.66172512e-01]\n",
      " [ -1.76637749e+00   9.25424084e-01]\n",
      " [ -4.94973573e+00   6.18512409e+00]\n",
      " [  8.17377483e+00   3.12260177e+00]\n",
      " [ -6.06144908e-01  -3.88201702e-01]\n",
      " [ -1.32066330e+00   7.33068555e-02]\n",
      " [ -1.03537641e+00   1.07285335e+00]\n",
      " [  6.09948375e-01  -9.15571627e-01]\n",
      " [  9.99144608e-01  -1.59349696e+00]\n",
      " [ -1.87928217e-01  -1.41721908e+00]\n",
      " [ -1.06639832e+00   4.75612138e-01]\n",
      " [  1.26426169e+01   4.08361675e+00]\n",
      " [ -2.17672895e-01  -1.62572593e+00]\n",
      " [ -2.33493543e+00   2.44521597e+00]\n",
      " [  8.15998566e-01  -1.80594500e+00]\n",
      " [ -9.00615434e-01  -8.03520511e-02]\n",
      " [ -2.90429844e+00   6.74761582e-01]\n",
      " [ -8.48376256e-01  -1.05950551e+00]\n",
      " [  1.26520957e+01   4.06941519e+00]\n",
      " [  6.42273409e-01  -5.04731138e-01]\n",
      " [ -3.11585156e+00   1.07253520e+00]\n",
      " [  5.34104547e-01  -7.61726159e-01]\n",
      " [  1.25923792e+01   4.15888497e+00]\n",
      " [ -1.46044605e+00  -1.71349591e+00]\n",
      " [ -7.51097324e-01   1.14416103e+00]\n",
      " [ -4.02223761e-01   4.60172253e-01]\n",
      " [  1.31530665e+00  -1.56860793e+00]\n",
      " [  9.54855886e-02  -1.17432320e+00]\n",
      " [  3.85213620e-01   6.43420452e-01]\n",
      " [ -9.79489709e+00   1.12678810e+01]\n",
      " [  1.49706040e-01  -1.43627627e+00]\n",
      " [ -2.51528939e-02  -1.98170402e+00]\n",
      " [ -4.45137738e+00   2.43920527e+00]\n",
      " [ -1.29029958e+00   8.84914003e-01]\n",
      " [  5.39848063e-01  -1.46681809e+00]\n",
      " [ -2.06230038e+00   2.76527102e+00]\n",
      " [ -1.23170886e+00   2.12176940e-01]\n",
      " [ -1.65934392e+00   1.48140601e+00]\n",
      " [ -1.89533675e+00  -1.75072813e+00]\n",
      " [  2.90156682e-01  -7.39657117e-01]\n",
      " [  1.25731057e+01   4.18776146e+00]\n",
      " [  9.49899189e-01  -1.19174816e+00]\n",
      " [ -1.06069733e-01  -3.85664687e-01]\n",
      " [ -1.31985386e+00   4.58136564e-01]\n",
      " [ -2.08031310e-01  -4.30024033e-01]\n",
      " [  1.26208157e+01   4.11628032e+00]\n",
      " [ -7.91274554e-01  -4.30998057e-01]\n",
      " [ -7.21467047e-01   4.41364038e-02]\n",
      " [ -3.90288033e+00   3.15798451e+00]\n",
      " [ -4.09107260e+00   3.16445001e+00]\n",
      " [ -8.06440824e-02  -7.78904314e-01]\n",
      " [  1.26448286e+01   4.08030305e+00]\n",
      " [ -8.15485254e-01  -1.27139630e+00]\n",
      " [  8.33378149e-01  -1.57107959e+00]\n",
      " [ -1.04951749e+00  -4.41016457e-01]\n",
      " [  3.40933528e+00   4.05423207e+00]\n",
      " [  1.26498840e+01   4.07272889e+00]\n",
      " [ -2.89074130e+00   2.59066203e+00]\n",
      " [  1.25885877e+01   4.16456560e+00]\n",
      " [ -9.59071478e-01  -9.70120228e-01]\n",
      " [ -5.00723377e+00   5.33240157e+00]\n",
      " [ -6.49528972e-01  -7.97812820e-01]\n",
      " [ -6.75168304e-01  -8.39633293e-01]\n",
      " [ -1.76540829e+00  -1.20931191e+00]\n",
      " [ -4.50226751e+00   4.24255354e+00]\n",
      " [  7.77841860e-01  -8.75323223e-01]\n",
      " [ -7.48024861e-01  -2.31492288e+00]\n",
      " [ -4.09817117e+00   3.72225800e+00]\n",
      " [ -6.12774514e+00   6.82383645e+00]\n",
      " [ -5.62509136e-01   1.11671744e+00]\n",
      " [ -7.88564643e-01  -2.76156783e+00]\n",
      " [ -1.99545788e+00   7.49366728e-01]\n",
      " [ -6.13757029e-01  -6.38099773e-01]\n",
      " [ -1.06864396e+00   3.40058119e-01]\n",
      " [ -6.05125238e-01  -8.51258951e-01]\n",
      " [ -2.20539374e+00   2.51702741e+00]\n",
      " [ -2.01109160e+00   1.68146636e+00]\n",
      " [  1.26584149e+01   4.05994749e+00]\n",
      " [ -4.73899631e+00   5.82667941e+00]\n",
      " [ -2.32719029e+00   1.83472247e+00]\n",
      " [ -1.97730300e+00  -7.71357367e-01]\n",
      " [  2.73169241e-02   1.03870696e+00]\n",
      " [  1.25763552e+01   4.15683575e+00]\n",
      " [ -7.08033011e-01   1.09096150e+00]\n",
      " [  8.35913164e-01  -7.54006366e-01]\n",
      " [ -1.17487195e+00  -1.99921589e+00]\n",
      " [ -5.91255696e-01   7.49045199e+00]\n",
      " [ -5.26571092e+00   5.75149973e+00]\n",
      " [  3.02906104e-01  -4.42165012e-01]\n",
      " [ -1.96174476e+00   9.05935280e-01]\n",
      " [ -1.54073632e+00   9.91824272e-01]\n",
      " [  2.61809348e-01  -1.74493090e-01]\n",
      " [ -3.58863841e+00   1.35798094e+00]\n",
      " [ -1.74136708e+00   7.76558517e-01]\n",
      " [  1.61045019e+00   4.69023207e-01]\n",
      " [  2.11883305e-02  -2.26993071e+00]\n",
      " [  4.46197845e-01  -1.06773771e+00]\n",
      " [ -6.27962924e+00   7.63910045e+00]\n",
      " [ -2.02824819e-01  -1.03081187e+00]\n",
      " [  1.53653413e-01  -1.11443144e+00]\n",
      " [ -2.45950497e+00   9.56335516e-01]\n",
      " [  6.10559443e-02   1.54758303e-01]\n",
      " [  5.70899676e-01  -1.72340164e+00]\n",
      " [  7.37156841e-01  -8.24481522e-01]\n",
      " [ -4.61162168e+00   4.43745822e+00]\n",
      " [  8.52873227e-01  -8.08735384e-01]\n",
      " [  2.33592861e-02  -2.26506234e+00]\n",
      " [ -7.65257397e-01  -9.66568234e-01]\n",
      " [  1.10150107e+00  -3.06977716e+00]\n",
      " [ -1.10003272e+00   2.31123897e+00]\n",
      " [ -1.83485858e+00   1.77043660e-01]\n",
      " [ -2.49749091e+00   2.48332471e+00]\n",
      " [ -3.91815847e+00   2.90447437e+00]\n",
      " [ -2.97666603e-01  -2.03400138e+00]\n",
      " [ -4.47665581e+00   3.72182557e+00]\n",
      " [  3.99072614e-01  -3.46277874e-01]\n",
      " [  1.75515732e+00  -1.41788505e+00]\n",
      " [  1.82238010e+00  -1.70810765e+00]\n",
      " [ -1.85896583e+00  -2.51383185e+00]\n",
      " [  2.68270512e-02  -2.15013461e+00]\n",
      " [ -3.50689045e+00   3.63799705e+00]\n",
      " [ -1.80660556e+00   1.66959659e-01]\n",
      " [ -6.97703221e-01  -5.39467488e-01]\n",
      " [  5.86900596e-01  -1.44647148e+00]\n",
      " [  1.03196097e+00  -2.60997827e+00]\n",
      " [  5.68120294e-01  -1.37408114e+00]\n",
      " [  6.80640800e-01  -2.81459226e+00]\n",
      " [ -2.24549174e-01  -1.72094209e+00]\n",
      " [ -6.95537238e-01   3.00632035e-01]\n",
      " [ -6.13319298e-01  -5.84115575e-02]\n",
      " [  1.79984689e+00  -2.01558226e+00]\n",
      " [ -8.09292518e-01  -4.78498145e-01]\n",
      " [ -1.04007142e+00   6.63713864e-01]\n",
      " [  3.20883245e-01  -1.29331469e+00]\n",
      " [ -1.14438336e+00  -1.42187068e-01]\n",
      " [ -1.06603867e-01  -1.48701958e+00]\n",
      " [  1.42886135e+00  -1.03491619e+00]\n",
      " [ -2.25478723e+00   1.98387535e+00]\n",
      " [ -6.05901776e-01  -3.45779469e-01]\n",
      " [ -2.11427312e+00   2.89427823e+00]\n",
      " [  8.13659297e-01  -8.35700470e-01]\n",
      " [ -2.30463129e+00   3.82552638e-01]\n",
      " [ -3.16593084e+00   7.34213695e-01]\n",
      " [ -2.39768922e+00   7.29593837e-01]\n",
      " [  1.06237992e+00  -1.81125460e+00]\n",
      " [ -9.66204305e-01   2.07284978e+00]\n",
      " [ -1.32105948e-01  -2.43772720e+00]\n",
      " [ -2.45149439e+00  -2.20469570e-01]\n",
      " [  5.64293391e-01  -6.45773264e-01]\n",
      " [  9.91425852e-01  -2.09403104e+00]\n",
      " [ -4.51099810e-01  -8.86330934e-02]\n",
      " [  1.10323867e+00  -2.58209459e+00]\n",
      " [ -1.89897164e+00  -5.05424289e-01]\n",
      " [ -1.00893379e-01  -9.25441468e-01]\n",
      " [ -6.35007581e-01  -1.17100024e+00]\n",
      " [ -3.67884173e+00   5.32230230e+00]\n",
      " [ -9.20580747e-01  -1.33587533e+00]\n",
      " [ -3.11725398e+00   6.77591923e-01]\n",
      " [ -2.29810223e+00   2.50282050e+00]\n",
      " [ -3.55181594e+00   3.27216222e+00]\n",
      " [  6.37599662e-01  -1.91676471e+00]\n",
      " [ -5.54619041e-01  -1.08227992e+00]\n",
      " [ -4.52734446e-01  -1.57124388e+00]\n",
      " [  2.47150484e-01   1.12422557e+00]\n",
      " [  6.45026051e-01  -6.86456859e-01]\n",
      " [  6.48658177e-01  -2.58492021e+00]\n",
      " [ -1.34061856e+00  -2.90306779e-01]\n",
      " [ -3.27410547e+00   1.78022644e+00]\n",
      " [  8.12283776e-01  -1.69804734e+00]\n",
      " [  1.26498522e-02  -1.04781745e+00]\n",
      " [ -1.19922142e-01  -2.68474893e+00]\n",
      " [  7.13667272e-01  -1.94724875e+00]\n",
      " [ -5.67411556e-01   3.00311404e-01]\n",
      " [  1.56719315e+00  -1.24126955e+00]\n",
      " [  1.12505298e-01  -2.28242476e+00]\n",
      " [  8.05815990e-01  -1.32903733e+00]\n",
      " [  5.00261074e-01   2.20840800e-01]\n",
      " [  1.31790732e+00  -1.64079468e+00]\n",
      " [ -7.55528900e-01  -1.68579444e+00]\n",
      " [ -7.86104945e-02  -1.23848761e+00]\n",
      " [ -1.33782771e+00  -8.50572577e-01]\n",
      " [  4.56433703e-01  -2.10843184e+00]\n",
      " [  1.55704192e-01  -2.08922721e+00]\n",
      " [ -9.33475459e-02  -1.53400301e+00]\n",
      " [ -2.74023899e-01  -1.80835314e+00]\n",
      " [  3.85958939e-01  -8.41323510e-01]\n",
      " [  3.49869397e-01  -2.26246375e+00]\n",
      " [ -1.38504021e+00  -1.52537510e+00]\n",
      " [  2.01318192e+00  -5.91491613e-01]\n",
      " [  9.86515677e-01  -2.33003126e+00]\n",
      " [  2.59862929e+00  -1.41157733e+00]\n",
      " [  1.67261217e+00  -9.36666447e-01]\n",
      " [  1.82225226e+00  -9.58613969e-01]\n",
      " [ -2.72112183e+00  -1.82513655e+00]\n",
      " [ -1.37420675e+00  -2.65499903e-01]\n",
      " [  6.05450921e-01  -2.73181289e+00]\n",
      " [  1.74345413e+00  -1.20166878e+00]\n",
      " [  5.09487823e-01  -1.03988452e+00]\n",
      " [  1.40169823e-01  -1.09937533e+00]\n",
      " [  9.56560271e-01  -1.33147631e+00]\n",
      " [ -3.24324629e-01  -6.58997278e-01]\n",
      " [ -1.30982215e+00  -3.47665942e-02]\n",
      " [  3.60997312e-01  -9.04420070e-01]\n",
      " [ -3.91428711e-02  -9.60059002e-01]\n",
      " [  9.94288870e-01  -1.18162321e+00]\n",
      " [  9.19531347e-01  -1.11879166e+00]\n",
      " [  6.12830694e-01  -3.16794605e+00]\n",
      " [ -1.85030565e-01  -1.09206619e+00]\n",
      " [  1.51388084e+00  -1.98895827e+00]\n",
      " [  9.37559789e-01  -3.04981384e+00]\n",
      " [  1.12634499e+00  -2.81496620e+00]\n",
      " [  5.70427203e-01  -1.91082934e+00]\n",
      " [  3.01354274e-01  -8.75747465e-01]\n",
      " [ -1.03293068e-01   5.71449615e-01]\n",
      " [  4.62096908e-01  -2.23644955e+00]\n",
      " [  6.63265555e-01  -1.78101149e-01]\n",
      " [  1.50550936e-01  -2.42154215e+00]\n",
      " [  7.25527620e-01  -1.71909166e+00]\n",
      " [ -3.55100750e-01   3.93905274e-01]\n",
      " [ -7.84536533e-01   1.08548677e+00]\n",
      " [ -6.62025607e-01  -3.07388911e+00]\n",
      " [ -6.76101296e-01  -3.04207101e-01]\n",
      " [  1.35554413e+00  -5.64135942e-01]\n",
      " [  1.14264551e-02  -1.13525725e+00]\n",
      " [ -5.92962329e-01   7.08434170e-01]\n",
      " [ -1.29291928e+00  -5.64293884e-01]\n",
      " [  5.11480953e-01  -2.75006959e+00]\n",
      " [ -1.18264805e+00  -1.72495684e+00]\n",
      " [  8.07537026e-01  -1.79879955e+00]\n",
      " [  1.68266685e+00  -3.66823462e-01]\n",
      " [ -1.16952484e+00   4.03899424e-01]\n",
      " [  8.48561324e-01   3.02584217e-01]\n",
      " [  5.10994965e-01  -2.14770449e+00]\n",
      " [  7.45270513e-01   1.86401908e+00]\n",
      " [ -2.49281936e+00  -1.36676338e+00]\n",
      " [ -6.24873325e-02  -1.43980486e+00]\n",
      " [ -4.86338188e-01  -1.31478079e+00]\n",
      " [  1.52196228e-01  -1.75500879e+00]\n",
      " [  9.27873345e-01  -1.36296303e+00]\n",
      " [ -1.05559488e+00  -3.78531141e-01]\n",
      " [  4.82957722e-01  -2.52936272e+00]\n",
      " [  2.29961943e-01  -3.06723285e+00]\n",
      " [ -9.70303106e-02  -1.33144433e+00]\n",
      " [ -4.70336871e+00   3.84383000e+00]\n",
      " [  6.82433831e-01  -8.53528068e-01]\n",
      " [  2.13375865e+00  -2.18254500e+00]\n",
      " [ -2.13919686e+00  -6.17001780e-01]\n",
      " [ -5.32897987e-01   1.36829540e-01]\n",
      " [ -8.43011141e-01  -2.46892449e+00]\n",
      " [  6.03815443e-01   1.33235940e+00]\n",
      " [ -6.51006590e-01  -9.97260930e-01]\n",
      " [ -2.41268953e-01  -8.22738523e-01]\n",
      " [ -1.11410038e+00  -3.20540157e-02]\n",
      " [  2.57057495e-01  -2.10858537e+00]]\n"
     ]
    }
   ],
   "source": [
    "pca = PCA(n_components=2)\n",
    "r_X=pca.fit(X).transform(X)\n",
    "print(r_X)"
   ]
  },
  {
   "cell_type": "code",
   "execution_count": 208,
   "metadata": {
    "collapsed": false
   },
   "outputs": [
    {
     "data": {
      "text/plain": [
       "268"
      ]
     },
     "execution_count": 208,
     "metadata": {},
     "output_type": "execute_result"
    }
   ],
   "source": [
    "len(r_X)"
   ]
  },
  {
   "cell_type": "code",
   "execution_count": 211,
   "metadata": {
    "collapsed": false
   },
   "outputs": [
    {
     "data": {
      "text/plain": [
       "<matplotlib.collections.PathCollection at 0x196c931a048>"
      ]
     },
     "execution_count": 211,
     "metadata": {},
     "output_type": "execute_result"
    },
    {
     "data": {
      "image/png": "[encoded data removed]",
      "text/plain": [
       "<matplotlib.figure.Figure at 0x196c92ce9b0>"
      ]
     },
     "metadata": {},
     "output_type": "display_data"
    }
   ],
   "source": [
    "from matplotlib import pyplot as plt\n",
    "plt.title(\"PCA on uncleaned data\")\n",
    "plt.scatter(r_X[:,0],r_X[:,1])\n"
   ]
  },
  {
   "cell_type": "code",
   "execution_count": 262,
   "metadata": {
    "collapsed": false
   },
   "outputs": [],
   "source": [
    "from sklearn.cluster import KMeans\n",
    "kmeans = KMeans(n_clusters=3, random_state=0).fit(r_X)\n",
    "labels=kmeans.labels_\n",
    "inliers=np.where(labels==0 )\n",
    "clean_data=data.ix[inliers]\n",
    "clean_data.drop(['call_id'],axis=1,inplace=True)\n",
    "outliers=np.where(labels==1)\n",
    "dirty_data = data.ix[outliers]\n",
    "dirty_data.drop(['call_id','index','level_0'],axis=1,inplace=True)"
   ]
  },
  {
   "cell_type": "code",
   "execution_count": 264,
   "metadata": {
    "collapsed": false
   },
   "outputs": [
    {
     "data": {
      "text/plain": [
       "43"
      ]
     },
     "execution_count": 264,
     "metadata": {},
     "output_type": "execute_result"
    },
    {
     "data": {
      "image/png": "[encoded data removed]",
      "text/plain": [
       "<matplotlib.figure.Figure at 0x196cadd4ac8>"
      ]
     },
     "metadata": {},
     "output_type": "display_data"
    }
   ],
   "source": [
    "clean_data = r_X[inliers]\n",
    "plt.scatter(clean_data[:,0],clean_data[:,1])"
   ]
  },
  {
   "cell_type": "markdown",
   "metadata": {},
   "source": [
    "### from matplotlib import pyplot as plt\n",
    "X_c=clean_data.values\n",
    "\n"
   ]
  }
 ],
 "metadata": {
  "kernelspec": {
   "display_name": "Python 3",
   "language": "python",
   "name": "python3"
  },
  "language_info": {
   "codemirror_mode": {
    "name": "ipython",
    "version": 3
   },
   "file_extension": ".py",
   "mimetype": "text/x-python",
   "name": "python",
   "nbconvert_exporter": "python",
   "pygments_lexer": "ipython3",
   "version": "3.5.1"
  }
 },
 "nbformat": 4,
 "nbformat_minor": 0
}
